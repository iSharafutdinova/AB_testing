{
 "cells": [
  {
   "attachments": {},
   "cell_type": "markdown",
   "metadata": {},
   "source": [
    "## Урок 7. Нестандартные ситуации"
   ]
  },
  {
   "attachments": {},
   "cell_type": "markdown",
   "metadata": {},
   "source": [
    "### Задача \n",
    "На основе выбранных продуктов из первого вебинара, выберите 2 A/B-теста и составьте план эксперимента, чтобы избежать Peeking Problem\n",
    "\n",
    "Распишите, какие метрики и как вы будете анализировать"
   ]
  },
  {
   "attachments": {},
   "cell_type": "markdown",
   "metadata": {},
   "source": [
    "Мы запустили А/В тест Длительностью 10 дней.На каждую метрику направили по 10 000 юзеров. Ошибка первого рода 0.05. На основе выбранных данных, выберите 2 A/B-теста и составьте план эксперимента, чтобы избежать ошибки Peeking Problem"
   ]
  },
  {
   "attachments": {},
   "cell_type": "markdown",
   "metadata": {},
   "source": [
    "#### Ключевые метрики:\n",
    "Количество новых регистраций пользователей\n",
    "\n",
    "Доход от новых пользователей"
   ]
  },
  {
   "attachments": {},
   "cell_type": "markdown",
   "metadata": {},
   "source": [
    "#### Гипотеза: \n",
    "Если предложить 10% скидку на первую покупку для новых пользователей, то мы сможем повысить количество регистраций новых пользователей на 15%.\n",
    "\n",
    "Что мы делаем в каждой из групп: Даём код на 10% скидку на первую покупку.\n",
    "\n",
    "На каких пользователях мы тестируем: Новые пользователи, которые раньше не делали покупок на сайте.\n",
    "\n",
    "Метрика: Количество новых регистраций пользователей."
   ]
  },
  {
   "attachments": {},
   "cell_type": "markdown",
   "metadata": {},
   "source": [
    "#### Гипотеза: \n",
    "Если предоставить персонализированные рекомендации по продуктам новым пользователям на основе их истории просмотров и покупательского поведения, то сможем повысить показатель дохода от новых пользователей на n%.\n",
    "\n",
    "Что мы делаем в каждой из групп: группа новых пользователей получает персонализированные рекомендации.\n",
    "\n",
    "На каких пользователях мы тестируем: На новых пользователях, совершивших хотя бы одну покупку на сайте\n",
    "\n",
    "Метрика: доход от новых пользователей."
   ]
  },
  {
   "attachments": {},
   "cell_type": "markdown",
   "metadata": {},
   "source": [
    "#### Решение:\n",
    "\n",
    "1. Соберём данные о регистрациях и доходах для контрольной и тестовой групп.\n",
    "2. Разделим данные на выборки – каждая выборка будет содержать 10,000 пользователей.\n",
    "3. Для каждой выборки будем считать количество новых регистраций и доход от новых пользователей для контрольной и тестовой групп.\n",
    "4. С помощью бутстрапа будем генерировать 1000 выборок с возвращением.\n",
    "5. Для каждой выборки будем считать различие между контрольной и тестовой групп в количестве новых регистраций и доходе от новых пользователей.\n",
    "6. Построим распределение полученных различий, оценим доверительные интервалы для обеих метрик.\n",
    "7. Если доверительный интервал не содержит 0 (для метрики регистраций) или отрицательных значений (для метрики дохода), то можем сделать вывод о том, что эксперимент был успешным и можно внедрять новые подходы в работу сервиса."
   ]
  },
  {
   "cell_type": "code",
   "execution_count": 7,
   "metadata": {},
   "outputs": [],
   "source": [
    "import numpy as np\n",
    "import pandas as pd\n",
    "from scipy.stats import norm"
   ]
  },
  {
   "attachments": {},
   "cell_type": "markdown",
   "metadata": {},
   "source": [
    "Собираем данные:"
   ]
  },
  {
   "cell_type": "code",
   "execution_count": 8,
   "metadata": {},
   "outputs": [],
   "source": [
    "control_registrations = 10000\n",
    "test_registrations = 10000\n",
    "control_income = 1000000\n",
    "test_income = 1000000"
   ]
  },
  {
   "attachments": {},
   "cell_type": "markdown",
   "metadata": {},
   "source": [
    "Разделяем данные на выборки:"
   ]
  },
  {
   "cell_type": "code",
   "execution_count": 9,
   "metadata": {},
   "outputs": [],
   "source": [
    "control_registrations_list = np.random.binomial(n=1, p=0.05, size=control_registrations)\n",
    "test_registrations_list = np.random.binomial(n=1, p=0.05, size=test_registrations)\n",
    "control_income_list = np.random.normal(loc=100, scale=20, size=control_income)\n",
    "test_income_list = np.random.normal(loc=110, scale=20, size=test_income)"
   ]
  },
  {
   "attachments": {},
   "cell_type": "markdown",
   "metadata": {},
   "source": [
    "Считаем количество регистраций и доход для контрольной и тестовой групп:"
   ]
  },
  {
   "cell_type": "code",
   "execution_count": 10,
   "metadata": {},
   "outputs": [],
   "source": [
    "control_registrations_num = sum(control_registrations_list)\n",
    "test_registrations_num = sum(test_registrations_list)\n",
    "control_income_sum = sum(control_income_list)\n",
    "test_income_sum = sum(test_income_list)"
   ]
  },
  {
   "attachments": {},
   "cell_type": "markdown",
   "metadata": {},
   "source": [
    "Проводим бутстрап:"
   ]
  },
  {
   "cell_type": "code",
   "execution_count": 11,
   "metadata": {},
   "outputs": [],
   "source": [
    "n = 1000\n",
    "differences_registrations = []\n",
    "differences_income = []\n",
    "\n",
    "for i in range(n):\n",
    "    control_registrations_sample = np.random.choice(control_registrations_list, size=10000, replace=True)\n",
    "    test_registrations_sample = np.random.choice(test_registrations_list, size=10000, replace=True)\n",
    "    control_income_sample = np.random.choice(control_income_list, size=10000, replace=True)\n",
    "    test_income_sample = np.random.choice(test_income_list, size=10000, replace=True)\n",
    "\n",
    "    sample_diff_registrations = sum(test_registrations_sample) - sum(control_registrations_sample)\n",
    "    sample_diff_income = sum(test_income_sample) - sum(control_income_sample)\n",
    "\n",
    "    differences_registrations.append(sample_diff_registrations)\n",
    "    differences_income.append(sample_diff_income)"
   ]
  },
  {
   "attachments": {},
   "cell_type": "markdown",
   "metadata": {},
   "source": [
    "Оцениваем доверительный интервал для количества регистраций:"
   ]
  },
  {
   "cell_type": "code",
   "execution_count": 12,
   "metadata": {},
   "outputs": [
    {
     "name": "stdout",
     "output_type": "stream",
     "text": [
      "95% доверительный интервал для количества регистраций:  (78.66443944215187, 82.49356055784811)\n"
     ]
    }
   ],
   "source": [
    "difference_registrations_mean = np.mean(differences_registrations)\n",
    "difference_registrations_std = np.std(differences_registrations)\n",
    "ci_registrations = norm.interval(0.95, loc=difference_registrations_mean, scale=difference_registrations_std/np.sqrt(n))\n",
    "print(\"95% доверительный интервал для количества регистраций: \", ci_registrations)"
   ]
  },
  {
   "attachments": {},
   "cell_type": "markdown",
   "metadata": {},
   "source": [
    "Оцениваем доверительный интервал для дохода:"
   ]
  },
  {
   "cell_type": "code",
   "execution_count": 13,
   "metadata": {},
   "outputs": [
    {
     "name": "stdout",
     "output_type": "stream",
     "text": [
      "95% доверительный интервал для дохода:  (99453.96772718307, 99815.47083164175)\n"
     ]
    }
   ],
   "source": [
    "difference_income_mean = np.mean(differences_income)\n",
    "difference_income_std = np.std(differences_income)\n",
    "ci_income = norm.interval(0.95, loc=difference_income_mean, scale=difference_income_std/np.sqrt(n))\n",
    "print(\"95% доверительный интервал для дохода: \", ci_income)"
   ]
  },
  {
   "attachments": {},
   "cell_type": "markdown",
   "metadata": {},
   "source": [
    "#### Ответ:\n",
    "\n",
    "Так как, доверительный интервал не содержит 0 (для метрики регистраций) и отрицательных значений (для метрики дохода), то можем сделать вывод о том, что эксперимент был успешным и можно внедрять новые подходы в работу сервиса."
   ]
  }
 ],
 "metadata": {
  "kernelspec": {
   "display_name": "Python 3",
   "language": "python",
   "name": "python3"
  },
  "language_info": {
   "codemirror_mode": {
    "name": "ipython",
    "version": 3
   },
   "file_extension": ".py",
   "mimetype": "text/x-python",
   "name": "python",
   "nbconvert_exporter": "python",
   "pygments_lexer": "ipython3",
   "version": "3.9.6"
  },
  "orig_nbformat": 4
 },
 "nbformat": 4,
 "nbformat_minor": 2
}
